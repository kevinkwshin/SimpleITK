{
 "cells": [
  {
   "cell_type": "markdown",
   "metadata": {},
   "source": [
    "# 실습 1. 메타데이터 읽기"
   ]
  },
  {
   "cell_type": "code",
   "execution_count": null,
   "metadata": {},
   "outputs": [],
   "source": [
    "# 0. install pydicom\n",
    "!pip install pydicom\n",
    "\n",
    "# 1. load pydicom library\n",
    "import pydicom\n",
    "\n",
    "# 2. check pydicom library version\n",
    "print(pydicom.__version__)\n",
    "\n",
    "# 2. load sample data provided by pydicom library \n",
    "from pydicom.data import get_testdata_file\n",
    "filename = get_testdata_file('MR_small.dcm')\n",
    "\n",
    "# 3. read a DICOM file\n",
    "ds = pydicom.dcmread(filename)"
   ]
  },
  {
   "cell_type": "code",
   "execution_count": null,
   "metadata": {},
   "outputs": [],
   "source": [
    "# 4. show meta-data\n",
    "print(ds)"
   ]
  },
  {
   "cell_type": "code",
   "execution_count": null,
   "metadata": {},
   "outputs": [],
   "source": [
    "print(\"Study Date:\", ds.StudyDate)\n",
    "print(\"Patient's Name:\", ds.PatientName)\n",
    "print(\"Patient's Sex:\", ds.PatientSex)"
   ]
  },
  {
   "cell_type": "markdown",
   "metadata": {},
   "source": [
    "# 실습 2. 메타데이터 수정 및 저장"
   ]
  },
  {
   "cell_type": "code",
   "execution_count": null,
   "metadata": {},
   "outputs": [],
   "source": [
    "# 1. Read a DICOM file (메타정보 삭제 여부를 확인하기 위해 새로 불러옴)\n",
    "ds_anonymized = pydicom.dcmread(filename)"
   ]
  },
  {
   "cell_type": "code",
   "execution_count": null,
   "metadata": {},
   "outputs": [],
   "source": [
    "# 2. Delete desired meta-data\n",
    "ds_anonymized.PatientName = ''\n",
    "ds_anonymized.PatientSex = ''"
   ]
  },
  {
   "cell_type": "code",
   "execution_count": null,
   "metadata": {},
   "outputs": [],
   "source": [
    "# 3. Checking for deleted metadata\n",
    "print(\"'Before' anonymized\")\n",
    "print(\"Study Date:\", ds.StudyDate)\n",
    "print(\"Patient's Name:\", ds.PatientName)\n",
    "print(\"Patient's Sex:\", ds.PatientSex)\n",
    "print(\"\\n\")\n",
    "\n",
    "print(\"'After' anonymized\")\n",
    "print(\"Study Date:\", ds_anonymized.StudyDate)\n",
    "print(\"Patient's Name:\", ds_anonymized.PatientName)\n",
    "print(\"Patient's Sex:\", ds_anonymized.PatientSex)"
   ]
  },
  {
   "cell_type": "code",
   "execution_count": null,
   "metadata": {},
   "outputs": [],
   "source": [
    "# 4. save revised DICOM file\n",
    "output_filename = 'anonymized.dcm'\n",
    "ds_anonymized.save_as(output_filename)"
   ]
  },
  {
   "cell_type": "code",
   "execution_count": null,
   "metadata": {},
   "outputs": [],
   "source": [
    "# 5. Check if meta-data is deleted from modified/saved DICOM\n",
    "ds_anonymized = pydicom.dcmread('anonymized.dcm')\n",
    "\n",
    "print(\"'After' anonymized\")\n",
    "print(\"Study Date:\", ds_anonymized.StudyDate)\n",
    "print(\"Patient's Name:\", ds_anonymized.PatientName)\n",
    "print(\"Patient's Sex:\", ds_anonymized.PatientSex)"
   ]
  },
  {
   "cell_type": "markdown",
   "metadata": {},
   "source": [
    "# 실습 3. SimpleITK로 메타정보 읽기 (비추천)"
   ]
  },
  {
   "cell_type": "code",
   "execution_count": null,
   "metadata": {},
   "outputs": [],
   "source": [
    "# 0. install pydicom\n",
    "!pip install SimpleITK\n",
    "\n",
    "# 1. load SimpleITK library\n",
    "import SimpleITK as sitk\n",
    "\n",
    "# 2. read DICOM \n",
    "filename = get_testdata_file('MR_small.dcm')\n",
    "\n",
    "reader = sitk.ImageFileReader()\n",
    "reader.SetFileName(filename)\n",
    "reader.LoadPrivateTagsOn()\n",
    "\n",
    "reader.ReadImageInformation()"
   ]
  },
  {
   "cell_type": "code",
   "execution_count": null,
   "metadata": {},
   "outputs": [],
   "source": [
    "# 3. show all meta-data\n",
    "for k in reader.GetMetaDataKeys():\n",
    "    v = reader.GetMetaData(k)\n",
    "    print(f'({k}) = = \"{v}\"')"
   ]
  },
  {
   "cell_type": "code",
   "execution_count": null,
   "metadata": {},
   "outputs": [],
   "source": [
    "reader.GetMetaData('0028|1051')"
   ]
  },
  {
   "cell_type": "markdown",
   "metadata": {},
   "source": [
    "# 실습 4. 여러 파일중 CT/MRI 구분하여 폴더에 복사하기"
   ]
  },
  {
   "cell_type": "code",
   "execution_count": null,
   "metadata": {},
   "outputs": [],
   "source": [
    "# 1. import libraries\n",
    "import os # for creating directory\n",
    "import shutil # for copy, move, delete files/directories"
   ]
  },
  {
   "cell_type": "code",
   "execution_count": null,
   "metadata": {},
   "outputs": [],
   "source": [
    "# 2. create directories\n",
    "os.makedirs(name='MR',mode=0o777, exist_ok=True) # directory name MR is created with 777 permission\n",
    "os.makedirs(name='CT',mode=0o777, exist_ok=True) # directory name CT is created with 777 permission"
   ]
  },
  {
   "cell_type": "code",
   "execution_count": null,
   "metadata": {},
   "outputs": [],
   "source": [
    "# 3. get target files\n",
    "filename1 = get_testdata_file('MR_small.dcm')\n",
    "filename2 = get_testdata_file('CT_small.dcm')\n",
    "\n",
    "files = [filename1,filename2]\n",
    "files"
   ]
  },
  {
   "cell_type": "code",
   "execution_count": null,
   "metadata": {},
   "outputs": [],
   "source": [
    "# 4. check file meta-data\n",
    "for file in files:\n",
    "    ds = pydicom.dcmread(file)\n",
    "    modality = ds.Modality\n",
    "    print(f'file:{file}, Modality:{modality}')"
   ]
  },
  {
   "cell_type": "code",
   "execution_count": null,
   "metadata": {},
   "outputs": [],
   "source": [
    "# 5. copy file to target directory\n",
    "for file in files:\n",
    "    ds = pydicom.dcmread(file) # read DICOM\n",
    "    modality = ds.Modality # get modality data from meta\n",
    "    if modality == 'MR':\n",
    "        src = file                      # source file path for copying in case of MR\n",
    "        dst = 'MR/'+file.split('/')[-1] # target file path for copying in case of MR\n",
    "    elif modality == 'CT':\n",
    "        src = file                      # target file path for copying in case of CT\n",
    "        dst = 'CT/'+file.split('/')[-1] # target file path for copying in case of CT\n",
    "    shutil.copy(src, dst)    "
   ]
  },
  {
   "cell_type": "code",
   "execution_count": null,
   "metadata": {},
   "outputs": [],
   "source": [
    "# 6. Check CT directory\n",
    "!ls CT"
   ]
  },
  {
   "cell_type": "code",
   "execution_count": null,
   "metadata": {},
   "outputs": [],
   "source": [
    "# 7. Check CT directory\n",
    "!ls MR"
   ]
  }
 ],
 "metadata": {
  "kernelspec": {
   "display_name": "Python 3 (ipykernel)",
   "language": "python",
   "name": "python3"
  },
  "language_info": {
   "codemirror_mode": {
    "name": "ipython",
    "version": 3
   },
   "file_extension": ".py",
   "mimetype": "text/x-python",
   "name": "python",
   "nbconvert_exporter": "python",
   "pygments_lexer": "ipython3",
   "version": "3.9.13"
  }
 },
 "nbformat": 4,
 "nbformat_minor": 4
}
