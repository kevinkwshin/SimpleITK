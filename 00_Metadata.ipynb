{
 "cells": [
  {
   "cell_type": "markdown",
   "metadata": {},
   "source": [
    "<h1 align=\"center\">Treating meta information</h1>\n",
    "\n",
    "https://www.opswat.com/blog/opswat-deep-cdr-now-supports-dicom-file-format"
   ]
  },
  {
   "cell_type": "markdown",
   "metadata": {},
   "source": [
    "# 실습 1. 메타데이터 읽기"
   ]
  },
  {
   "cell_type": "code",
   "execution_count": 3,
   "metadata": {},
   "outputs": [
    {
     "name": "stdout",
     "output_type": "stream",
     "text": [
      "Defaulting to user installation because normal site-packages is not writeable\n",
      "Requirement already satisfied: pydicom in /usr/local/lib/python3.9/dist-packages (2.3.0)\n",
      "2.3.0\n"
     ]
    }
   ],
   "source": [
    "# 0. install pydicom\n",
    "!pip install pydicom --upgrade\n",
    "\n",
    "# 1. load pydicom library\n",
    "import pydicom\n",
    "\n",
    "# 2. check pydicom library version\n",
    "print(pydicom.__version__)\n",
    "\n",
    "# 2. load sample data provided by pydicom library \n",
    "from pydicom.data import get_testdata_file\n",
    "filename = get_testdata_file('MR_small.dcm')\n",
    "\n",
    "# 3. read a DICOM file\n",
    "ds = pydicom.dcmread(filename)"
   ]
  },
  {
   "cell_type": "code",
   "execution_count": 4,
   "metadata": {},
   "outputs": [
    {
     "name": "stdout",
     "output_type": "stream",
     "text": [
      "Dataset.file_meta -------------------------------\n",
      "(0002, 0000) File Meta Information Group Length  UL: 190\n",
      "(0002, 0001) File Meta Information Version       OB: b'\\x00\\x01'\n",
      "(0002, 0002) Media Storage SOP Class UID         UI: MR Image Storage\n",
      "(0002, 0003) Media Storage SOP Instance UID      UI: 1.3.6.1.4.1.5962.1.1.4.1.1.20040826185059.5457\n",
      "(0002, 0010) Transfer Syntax UID                 UI: Explicit VR Little Endian\n",
      "(0002, 0012) Implementation Class UID            UI: 1.3.6.1.4.1.5962.2\n",
      "(0002, 0013) Implementation Version Name         SH: 'DCTOOL100'\n",
      "(0002, 0016) Source Application Entity Title     AE: 'CLUNIE1'\n",
      "-------------------------------------------------\n",
      "(0008, 0008) Image Type                          CS: ['DERIVED', 'SECONDARY', 'OTHER']\n",
      "(0008, 0012) Instance Creation Date              DA: '20040826'\n",
      "(0008, 0013) Instance Creation Time              TM: '185434'\n",
      "(0008, 0014) Instance Creator UID                UI: 1.3.6.1.4.1.5962.3\n",
      "(0008, 0016) SOP Class UID                       UI: MR Image Storage\n",
      "(0008, 0018) SOP Instance UID                    UI: 1.3.6.1.4.1.5962.1.1.4.1.1.20040826185059.5457\n",
      "(0008, 0020) Study Date                          DA: '20040826'\n",
      "(0008, 0021) Series Date                         DA: ''\n",
      "(0008, 0022) Acquisition Date                    DA: ''\n",
      "(0008, 0030) Study Time                          TM: '185059'\n",
      "(0008, 0031) Series Time                         TM: ''\n",
      "(0008, 0032) Acquisition Time                    TM: ''\n",
      "(0008, 0050) Accession Number                    SH: ''\n",
      "(0008, 0060) Modality                            CS: 'MR'\n",
      "(0008, 0070) Manufacturer                        LO: 'TOSHIBA_MEC'\n",
      "(0008, 0080) Institution Name                    LO: 'TOSHIBA'\n",
      "(0008, 0090) Referring Physician's Name          PN: ''\n",
      "(0008, 0201) Timezone Offset From UTC            SH: '-0400'\n",
      "(0008, 1010) Station Name                        SH: '000000000'\n",
      "(0008, 1060) Name of Physician(s) Reading Study  PN: '----'\n",
      "(0008, 1070) Operators' Name                     PN: '----'\n",
      "(0008, 1090) Manufacturer's Model Name           LO: 'MRT50H1'\n",
      "(0010, 0010) Patient's Name                      PN: 'CompressedSamples^MR1'\n",
      "(0010, 0020) Patient ID                          LO: '4MR1'\n",
      "(0010, 0030) Patient's Birth Date                DA: ''\n",
      "(0010, 0040) Patient's Sex                       CS: 'F'\n",
      "(0010, 1020) Patient's Size                      DS: None\n",
      "(0010, 1030) Patient's Weight                    DS: '80.0'\n",
      "(0018, 0010) Contrast/Bolus Agent                LO: ''\n",
      "(0018, 0020) Scanning Sequence                   CS: 'SE'\n",
      "(0018, 0021) Sequence Variant                    CS: 'NONE'\n",
      "(0018, 0022) Scan Options                        CS: ''\n",
      "(0018, 0023) MR Acquisition Type                 CS: '3D'\n",
      "(0018, 0050) Slice Thickness                     DS: '0.8'\n",
      "(0018, 0080) Repetition Time                     DS: '4000.0'\n",
      "(0018, 0081) Echo Time                           DS: '240.0'\n",
      "(0018, 0083) Number of Averages                  DS: '1.0'\n",
      "(0018, 0084) Imaging Frequency                   DS: '63.924339'\n",
      "(0018, 0085) Imaged Nucleus                      SH: 'H'\n",
      "(0018, 0086) Echo Number(s)                      IS: '1'\n",
      "(0018, 0091) Echo Train Length                   IS: None\n",
      "(0018, 1000) Device Serial Number                LO: '-0000200'\n",
      "(0018, 1020) Software Versions                   LO: 'V3.51*P25'\n",
      "(0018, 1314) Flip Angle                          DS: '90.0'\n",
      "(0018, 5100) Patient Position                    CS: 'HFS'\n",
      "(0020, 000d) Study Instance UID                  UI: 1.3.6.1.4.1.5962.1.2.4.20040826185059.5457\n",
      "(0020, 000e) Series Instance UID                 UI: 1.3.6.1.4.1.5962.1.3.4.1.20040826185059.5457\n",
      "(0020, 0010) Study ID                            SH: '4MR1'\n",
      "(0020, 0011) Series Number                       IS: '1'\n",
      "(0020, 0012) Acquisition Number                  IS: '0'\n",
      "(0020, 0013) Instance Number                     IS: '1'\n",
      "(0020, 0032) Image Position (Patient)            DS: [-83.9063, -91.2000, 6.6406]\n",
      "(0020, 0037) Image Orientation (Patient)         DS: [1.0000, 0.0000, 0.0000, 0.0000, 1.0000, 0.0000]\n",
      "(0020, 0052) Frame of Reference UID              UI: 1.3.6.1.4.1.5962.1.4.4.1.20040826185059.5457\n",
      "(0020, 0060) Laterality                          CS: ''\n",
      "(0020, 1040) Position Reference Indicator        LO: ''\n",
      "(0020, 1041) Slice Location                      DS: '0.0'\n",
      "(0020, 4000) Image Comments                      LT: 'Uncompressed'\n",
      "(0028, 0002) Samples per Pixel                   US: 1\n",
      "(0028, 0004) Photometric Interpretation          CS: 'MONOCHROME2'\n",
      "(0028, 0010) Rows                                US: 64\n",
      "(0028, 0011) Columns                             US: 64\n",
      "(0028, 0030) Pixel Spacing                       DS: [0.3125, 0.3125]\n",
      "(0028, 0100) Bits Allocated                      US: 16\n",
      "(0028, 0101) Bits Stored                         US: 16\n",
      "(0028, 0102) High Bit                            US: 15\n",
      "(0028, 0103) Pixel Representation                US: 1\n",
      "(0028, 0106) Smallest Image Pixel Value          SS: 0\n",
      "(0028, 0107) Largest Image Pixel Value           SS: 4000\n",
      "(0028, 1050) Window Center                       DS: '600.0'\n",
      "(0028, 1051) Window Width                        DS: '1600.0'\n",
      "(7fe0, 0010) Pixel Data                          OW: Array of 8192 elements\n",
      "(fffc, fffc) Data Set Trailing Padding           OB: Array of 126 elements\n"
     ]
    }
   ],
   "source": [
    "# 4. show meta-data\n",
    "print(ds)"
   ]
  },
  {
   "cell_type": "code",
   "execution_count": 5,
   "metadata": {},
   "outputs": [
    {
     "name": "stdout",
     "output_type": "stream",
     "text": [
      "Study Date: 20040826\n",
      "Patient's Name: CompressedSamples^MR1\n",
      "Patient's Sex: F\n"
     ]
    }
   ],
   "source": [
    "print(\"Study Date:\", ds.StudyDate)\n",
    "print(\"Patient's Name:\", ds.PatientName)\n",
    "print(\"Patient's Sex:\", ds.PatientSex)"
   ]
  },
  {
   "cell_type": "markdown",
   "metadata": {},
   "source": [
    "# 실습 2. 메타데이터 수정 및 저장"
   ]
  },
  {
   "cell_type": "code",
   "execution_count": null,
   "metadata": {},
   "outputs": [],
   "source": [
    "# 1. Read a DICOM file (메타정보 삭제 여부를 확인하기 위해 새로 불러옴)\n",
    "ds_anonymized = pydicom.dcmread(filename)"
   ]
  },
  {
   "cell_type": "code",
   "execution_count": null,
   "metadata": {},
   "outputs": [],
   "source": [
    "# 2. Delete desired meta-data\n",
    "ds_anonymized.PatientName = ''\n",
    "ds_anonymized.PatientSex = ''"
   ]
  },
  {
   "cell_type": "code",
   "execution_count": null,
   "metadata": {},
   "outputs": [],
   "source": [
    "# 3. Checking for deleted metadata\n",
    "print(\"'Before' anonymized\")\n",
    "print(\"Study Date:\", ds.StudyDate)\n",
    "print(\"Patient's Name:\", ds.PatientName)\n",
    "print(\"Patient's Sex:\", ds.PatientSex)\n",
    "print(\"\\n\")\n",
    "\n",
    "print(\"'After' anonymized\")\n",
    "print(\"Study Date:\", ds_anonymized.StudyDate)\n",
    "print(\"Patient's Name:\", ds_anonymized.PatientName)\n",
    "print(\"Patient's Sex:\", ds_anonymized.PatientSex)"
   ]
  },
  {
   "cell_type": "code",
   "execution_count": null,
   "metadata": {},
   "outputs": [],
   "source": [
    "# 4. save revised DICOM file\n",
    "output_filename = 'anonymized.dcm'\n",
    "ds_anonymized.save_as(output_filename)"
   ]
  },
  {
   "cell_type": "code",
   "execution_count": null,
   "metadata": {},
   "outputs": [],
   "source": [
    "# 5. Check if meta-data is deleted from modified/saved DICOM\n",
    "ds_anonymized = pydicom.dcmread('anonymized.dcm')\n",
    "\n",
    "print(\"'After' anonymized\")\n",
    "print(\"Study Date:\", ds_anonymized.StudyDate)\n",
    "print(\"Patient's Name:\", ds_anonymized.PatientName)\n",
    "print(\"Patient's Sex:\", ds_anonymized.PatientSex)"
   ]
  },
  {
   "cell_type": "markdown",
   "metadata": {},
   "source": [
    "# 실습 3. SimpleITK로 메타정보 읽기 (비추천)"
   ]
  },
  {
   "cell_type": "code",
   "execution_count": null,
   "metadata": {},
   "outputs": [],
   "source": [
    "# 1. load SimpleITK library\n",
    "import SimpleITK as sitk\n",
    "\n",
    "# 2. read DICOM \n",
    "filename = get_testdata_file('MR_small.dcm')\n",
    "\n",
    "reader = sitk.ImageFileReader()\n",
    "reader.SetFileName(filename)\n",
    "reader.LoadPrivateTagsOn()\n",
    "\n",
    "reader.ReadImageInformation()"
   ]
  },
  {
   "cell_type": "code",
   "execution_count": null,
   "metadata": {},
   "outputs": [],
   "source": [
    "# 3. show all meta-data\n",
    "for k in reader.GetMetaDataKeys():\n",
    "    v = reader.GetMetaData(k)\n",
    "    print(f'({k}) = = \"{v}\"')"
   ]
  },
  {
   "cell_type": "code",
   "execution_count": null,
   "metadata": {},
   "outputs": [],
   "source": [
    "reader.GetMetaData('0028|1051')"
   ]
  },
  {
   "cell_type": "markdown",
   "metadata": {},
   "source": [
    "# 실습 4. 여러 파일중 CT/MRI 구분하여 폴더에 복사하기"
   ]
  },
  {
   "cell_type": "code",
   "execution_count": 32,
   "metadata": {},
   "outputs": [],
   "source": [
    "# 1. import libraries\n",
    "import os # for creating directory\n",
    "import shutil # for copy, move, delete files/directories"
   ]
  },
  {
   "cell_type": "code",
   "execution_count": 39,
   "metadata": {},
   "outputs": [],
   "source": [
    "# 2. create directories\n",
    "os.makedirs(name='MR',mode=0o777, exist_ok=True) # directory name MR is created with 777 permission\n",
    "os.makedirs(name='CT',mode=0o777, exist_ok=True) # directory name CT is created with 777 permission"
   ]
  },
  {
   "cell_type": "code",
   "execution_count": 45,
   "metadata": {},
   "outputs": [
    {
     "data": {
      "text/plain": [
       "['/usr/local/lib/python3.9/dist-packages/pydicom/data/test_files/MR_small.dcm',\n",
       " '/usr/local/lib/python3.9/dist-packages/pydicom/data/test_files/CT_small.dcm']"
      ]
     },
     "execution_count": 45,
     "metadata": {},
     "output_type": "execute_result"
    }
   ],
   "source": [
    "# 3. get target files\n",
    "filename1 = get_testdata_file('MR_small.dcm')\n",
    "filename2 = get_testdata_file('CT_small.dcm')\n",
    "\n",
    "files = [filename1,filename2]\n",
    "files"
   ]
  },
  {
   "cell_type": "code",
   "execution_count": 46,
   "metadata": {},
   "outputs": [
    {
     "name": "stdout",
     "output_type": "stream",
     "text": [
      "file:/usr/local/lib/python3.9/dist-packages/pydicom/data/test_files/MR_small.dcm, Modality:MR\n",
      "file:/usr/local/lib/python3.9/dist-packages/pydicom/data/test_files/CT_small.dcm, Modality:CT\n"
     ]
    }
   ],
   "source": [
    "# 4. check file meta-data\n",
    "for file in files:\n",
    "    ds = pydicom.dcmread(file)\n",
    "    modality = ds.Modality\n",
    "    print(f'file:{file}, Modality:{modality}')"
   ]
  },
  {
   "cell_type": "code",
   "execution_count": 48,
   "metadata": {},
   "outputs": [],
   "source": [
    "# 5. copy file to target directory\n",
    "for file in files:\n",
    "    ds = pydicom.dcmread(file) # read DICOM\n",
    "    modality = ds.Modality # get modality data from meta\n",
    "    if modality == 'MR':\n",
    "        src = file                      # source file path for copying in case of MR\n",
    "        dst = 'MR/'+file.split('/')[-1] # target file path for copying in case of MR\n",
    "    elif modality == 'CT':\n",
    "        src = file                      # target file path for copying in case of CT\n",
    "        dst = 'CT/'+file.split('/')[-1] # target file path for copying in case of CT\n",
    "    shutil.copy(src, dst)    "
   ]
  },
  {
   "cell_type": "code",
   "execution_count": 50,
   "metadata": {},
   "outputs": [
    {
     "name": "stdout",
     "output_type": "stream",
     "text": [
      "CT_small.dcm\n"
     ]
    }
   ],
   "source": [
    "# 6. Check CT directory\n",
    "!ls CT"
   ]
  },
  {
   "cell_type": "code",
   "execution_count": 51,
   "metadata": {},
   "outputs": [
    {
     "name": "stdout",
     "output_type": "stream",
     "text": [
      "MR_small.dcm\n"
     ]
    }
   ],
   "source": [
    "# 7. Check CT directory\n",
    "!ls MR"
   ]
  }
 ],
 "metadata": {
  "kernelspec": {
   "display_name": "Python 3 (ipykernel)",
   "language": "python",
   "name": "python3"
  },
  "language_info": {
   "codemirror_mode": {
    "name": "ipython",
    "version": 3
   },
   "file_extension": ".py",
   "mimetype": "text/x-python",
   "name": "python",
   "nbconvert_exporter": "python",
   "pygments_lexer": "ipython3",
   "version": "3.9.13"
  }
 },
 "nbformat": 4,
 "nbformat_minor": 4
}
