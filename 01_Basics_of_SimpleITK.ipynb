{
 "cells": [
  {
   "cell_type": "code",
   "execution_count": null,
   "metadata": {},
   "outputs": [],
   "source": [
    "# 0. install\n",
    "!pip install SimpleITK # install SimpleITK\n",
    "!git clone https://github.com/kevinkwshin/SimpleITK # for data preparing\n",
    "%cd SimpleITK # into SimpleITK directory"
   ]
  },
  {
   "cell_type": "markdown",
   "metadata": {},
   "source": [
    "## SimpleITK2Numpy and Numpy2SimpleITK\n",
    "\n",
    "SimpleITK and numpy indexing access is in opposite order! \n",
    "\n",
    "SimpleITK: image[x,y,z]<br>\n",
    "numpy: image_numpy_array[z,y,x]\n",
    "\n",
    "### SimpleITK2Numpy\n",
    "\n",
    "1. ```GetArrayFromImage()```: returns a copy of the image data. You can then freely modify the data as it has no effect on the original SimpleITK image.\n",
    "2. ```GetArrayViewFromImage()```: returns a view on the image data which is useful for display in a memory efficient manner. You cannot modify the data and __the view will be invalid if the original SimpleITK image is deleted__.\n",
    "\n",
    "### Numpy2SimpleITK\n",
    "1. ```GetImageFromArray()```: returns a SimpleITK image with origin set to zero, spacing set to one for all dimensions, and the direction cosine matrix set to identity. Intensity data is copied from the numpy array. __In most cases you will need to set appropriate meta-data values.__ \n"
   ]
  },
  {
   "cell_type": "code",
   "execution_count": 1,
   "metadata": {},
   "outputs": [],
   "source": [
    "# 1. load library\n",
    "import SimpleITK as sitk\n",
    "import numpy as np\n",
    "import matplotlib.pyplot as plt"
   ]
  },
  {
   "cell_type": "code",
   "execution_count": 2,
   "metadata": {
    "simpleitk_error_allowed": "Exception thrown in SimpleITK ImageViewer_Execute:"
   },
   "outputs": [],
   "source": [
    "# 2. create dummy sitk image\n",
    "sitkimage_2D = sitk.Image(64, 48, sitk.sitkFloat32)\n",
    "sitkimage_3D = sitk.Image(256, 128, 64, sitk.sitkInt16)\n",
    "sitkimage_RGB = sitk.Image([128,64], sitk.sitkVectorUInt8, 3)"
   ]
  },
  {
   "cell_type": "code",
   "execution_count": 3,
   "metadata": {},
   "outputs": [
    {
     "name": "stdout",
     "output_type": "stream",
     "text": [
      "sitkimage_2D shape: (64, 48)\n",
      "numpyimage_2D shape: (48, 64)\n",
      "sitkimage_3D shape: (256, 128, 64)\n",
      "numpyimage_2D shape: (64, 128, 256)\n",
      "sitkimage_RGB shape: (128, 64)\n",
      "numpyimage_RGB shape: (64, 128, 3)\n"
     ]
    }
   ],
   "source": [
    "# 3. check shape\n",
    "# 1) Definition of coordinate system is different!! numpy (H, W) - SimpleITK (W, H)\n",
    "numpyimage_2D = sitk.GetArrayFromImage(sitkimage_2D)\n",
    "print('sitkimage_2D shape:',sitkimage_2D.GetSize())\n",
    "print('numpyimage_2D shape:',numpyimage_2D.shape)\n",
    "\n",
    "numpyimage_3D = sitk.GetArrayFromImage(sitkimage_3D)\n",
    "print('sitkimage_3D shape:',sitkimage_3D.GetSize())\n",
    "print('numpyimage_2D shape:',numpyimage_3D.shape)\n",
    "\n",
    "numpyimage_RGB = sitk.GetArrayFromImage(sitkimage_RGB)\n",
    "print('sitkimage_RGB shape:',sitkimage_RGB.GetSize())\n",
    "print('numpyimage_RGB shape:',numpyimage_RGB.shape)"
   ]
  },
  {
   "cell_type": "code",
   "execution_count": 4,
   "metadata": {},
   "outputs": [
    {
     "name": "stdout",
     "output_type": "stream",
     "text": [
      "(48, 64) (48, 64)\n",
      "(64, 128, 256) (64, 128, 256)\n",
      "(64, 128, 3) (64, 128, 3)\n"
     ]
    }
   ],
   "source": [
    "# 3. check shape\n",
    "# 2) for memory efficient use GetArrayViewFromImage instead of using GetArrayFromImage\n",
    "print(sitk.GetArrayFromImage(sitkimage_2D).shape, sitk.GetArrayViewFromImage(sitkimage_2D).shape)\n",
    "print(sitk.GetArrayFromImage(sitkimage_3D).shape, sitk.GetArrayViewFromImage(sitkimage_3D).shape)\n",
    "print(sitk.GetArrayFromImage(sitkimage_RGB).shape, sitk.GetArrayViewFromImage(sitkimage_RGB).shape)"
   ]
  },
  {
   "cell_type": "markdown",
   "metadata": {},
   "source": [
    "<h1 align=\"center\">SimpleITK Images</h1>\n",
    "\n",
    "\n",
    "**Summary:**    \n",
    "\n",
    "1. Images occupy a region in physical space which is defined by:\n",
    "  * Origin.\n",
    "  * Size (number of pixels per dimension).\n",
    "  * Spacing (unknown consistent units: nm, mm, m, km...).\n",
    "  * Direction cosine matrix (axis directions in physical space).\n",
    "  \n",
    "  These attributes are the image's meta-data. Computing the physical coordinates from image indexes requires all four   components.\n",
    "\n",
    "2. An image may contain a meta-data dictionary. This supplemental information often includes the image modality (e.g. CT), patient name, and information with respect to the image acquisition. \n",
    "3. Image initialization: user specified pixel type, user specified dimensionality (2,3), origin at zero, unit spacing in all dimensions and identity direction cosine matrix, intensities set to zero.\n",
    "4. Data transfer to/from numpy: GetArrayFromImage (copy), GetArrayViewFromImage (immutable), GetImageFromArray (copy) + set the meta-data yourself. \n",
    "5. A common issue with resampling resulting in an all black image is due to (a) incorrect specification of the \n",
    "desired output image's spatial domain (its meta-data); or (b) the use of the inverse of the transformation mapping from the output spatial domain to the resampled image."
   ]
  },
  {
   "cell_type": "markdown",
   "metadata": {},
   "source": [
    "### Pixel Types\n",
    "\n",
    "The pixel type is represented as an enumerated type. The following is a table of the enumerated list.\n",
    "\n",
    "<table>\n",
    "  <tr><td>sitkUInt8</td><td>Unsigned 8 bit integer</td></tr>\n",
    "  <tr><td>sitkInt8</td><td>Signed 8 bit integer</td></tr>\n",
    "  <tr><td>sitkUInt16</td><td>Unsigned 16 bit integer</td></tr>\n",
    "  <tr><td>sitkInt16</td><td>Signed 16 bit integer</td></tr>\n",
    "  <tr><td>sitkUInt32</td><td>Unsigned 32 bit integer</td></tr>\n",
    "  <tr><td>sitkInt32</td><td>Signed 32 bit integer</td></tr>\n",
    "  <tr><td>sitkUInt64</td><td>Unsigned 64 bit integer</td></tr>\n",
    "  <tr><td>sitkInt64</td><td>Signed 64 bit integer</td></tr>\n",
    "  <tr><td>sitkFloat32</td><td>32 bit float</td></tr>\n",
    "  <tr><td>sitkFloat64</td><td>64 bit float</td></tr>\n",
    "  <tr><td>sitkComplexFloat32</td><td>complex number of 32 bit float</td></tr>\n",
    "  <tr><td>sitkComplexFloat64</td><td>complex number of 64 bit float</td></tr>\n",
    "  <tr><td>sitkVectorUInt8</td><td>Multi-component of unsigned 8 bit integer</td></tr>\n",
    "  <tr><td>sitkVectorInt8</td><td>Multi-component of signed 8 bit integer</td></tr>\n",
    "  <tr><td>sitkVectorUInt16</td><td>Multi-component of unsigned 16 bit integer</td></tr>\n",
    "  <tr><td>sitkVectorInt16</td><td>Multi-component of signed 16 bit integer</td></tr>\n",
    "  <tr><td>sitkVectorUInt32</td><td>Multi-component of unsigned 32 bit integer</td></tr>\n",
    "  <tr><td>sitkVectorInt32</td><td>Multi-component of signed 32 bit integer</td></tr>\n",
    "  <tr><td>sitkVectorUInt64</td><td>Multi-component of unsigned 64 bit integer</td></tr>\n",
    "  <tr><td>sitkVectorInt64</td><td>Multi-component of signed 64 bit integer</td></tr>\n",
    "  <tr><td>sitkVectorFloat32</td><td>Multi-component of 32 bit float</td></tr>\n",
    "  <tr><td>sitkVectorFloat64</td><td>Multi-component of 64 bit float</td></tr>\n",
    "  <tr><td>sitkLabelUInt8</td><td>RLE label of unsigned 8 bit integers</td></tr>\n",
    "  <tr><td>sitkLabelUInt16</td><td>RLE label of unsigned 16 bit integers</td></tr>\n",
    "  <tr><td>sitkLabelUInt32</td><td>RLE label of unsigned 32 bit integers</td></tr>\n",
    "  <tr><td>sitkLabelUInt64</td><td>RLE label of unsigned 64 bit integers</td></tr>\n",
    "</table>\n",
    "\n",
    "There is also `sitkUnknown`, which is used for undefined or erroneous pixel ID's.\n",
    "\n",
    "Some filters only work with images with a specific pixel type. The primary example is the registration framework which works with sitkFloat32 or sitkFloat64. To address this issue you can either specify the appropriate pixel type when reading or creating the image, or use the <a href=\"https://itk.org/SimpleITKDoxygen/html/namespaceitk_1_1simple.html#af8c9d7cc96a299a05890e9c3db911885\">Cast function</a>.  "
   ]
  },
  {
   "cell_type": "markdown",
   "metadata": {},
   "source": [
    "# Load natural image (JPG, PNG) and save to DICOM"
   ]
  },
  {
   "cell_type": "code",
   "execution_count": 5,
   "metadata": {},
   "outputs": [],
   "source": [
    "# 1. load library\n",
    "import SimpleITK as sitk\n",
    "import numpy as np\n",
    "import matplotlib.pyplot as plt"
   ]
  },
  {
   "cell_type": "code",
   "execution_count": 11,
   "metadata": {},
   "outputs": [
    {
     "name": "stdout",
     "output_type": "stream",
     "text": [
      "Size of sitk shape: (200, 53)\n"
     ]
    }
   ],
   "source": [
    "# 2. load JPG file\n",
    "logo = sitk.ReadImage('data/SimpleITK.jpg')\n",
    "print('Size of sitk shape:', logo.GetSize())"
   ]
  },
  {
   "cell_type": "code",
   "execution_count": 12,
   "metadata": {},
   "outputs": [
    {
     "name": "stdout",
     "output_type": "stream",
     "text": [
      "Size of sitk shape: (53, 200, 3)\n"
     ]
    },
    {
     "data": {
      "image/png": "[encoded data removed]",
      "text/plain": [
       "<Figure size 432x288 with 1 Axes>"
      ]
     },
     "metadata": {
      "needs_background": "light"
     },
     "output_type": "display_data"
    }
   ],
   "source": [
    "# 3. show JPG file\n",
    "img = sitk.GetArrayViewFromImage(logo)\n",
    "plt.imshow(img)\n",
    "print('Size of sitk shape:', img.shape)"
   ]
  },
  {
   "cell_type": "code",
   "execution_count": 17,
   "metadata": {},
   "outputs": [
    {
     "name": "stdout",
     "output_type": "stream",
     "text": [
      "Origin: (100.0, 100.0)\n",
      "Spacing: (2.0, 1.0)\n",
      "Direction cosine matrix: (1.0, 0.0, 0.0, 1.0)\n"
     ]
    }
   ],
   "source": [
    "# 4. check meta data (default settings)\n",
    "print('Origin:',logo.GetOrigin())\n",
    "print('Spacing:',logo.GetSpacing())\n",
    "print('Direction cosine matrix:',logo.GetDirection())"
   ]
  },
  {
   "cell_type": "code",
   "execution_count": 19,
   "metadata": {},
   "outputs": [],
   "source": [
    "# 4-1. Transform\n",
    "# logo.SetOrigin((100,100))\n",
    "# logo.SetSpacing((2,1))\n",
    "# logo.SetDirection((0.7071,-0.7071,0.7071,0.7071))"
   ]
  },
  {
   "cell_type": "code",
   "execution_count": 10,
   "metadata": {},
   "outputs": [
    {
     "name": "stdout",
     "output_type": "stream",
     "text": [
      "SimpleITK.dcm\n"
     ]
    }
   ],
   "source": [
    "# 5. save png to dcm\n",
    "sitk.WriteImage(logo, 'SimpleITK.dcm')\n",
    "!ls SimpleITK.dcm"
   ]
  },
  {
   "cell_type": "markdown",
   "metadata": {},
   "source": [
    "# Load mha file"
   ]
  },
  {
   "cell_type": "code",
   "execution_count": 21,
   "metadata": {},
   "outputs": [
    {
     "data": {
      "text/plain": [
       "<matplotlib.image.AxesImage at 0x7f28034d0cd0>"
      ]
     },
     "execution_count": 21,
     "metadata": {},
     "output_type": "execute_result"
    },
    {
     "data": {
      "image/png": "[encoded data removed]",
      "text/plain": [
       "<Figure size 432x288 with 1 Axes>"
      ]
     },
     "metadata": {
      "needs_background": "light"
     },
     "output_type": "display_data"
    }
   ],
   "source": [
    "ct = sitk.ReadImage('data/training_001_ct.mha')\n",
    "img = sitk.GetArrayViewFromImage(ct)\n",
    "plt.imshow(img[16])"
   ]
  },
  {
   "cell_type": "code",
   "execution_count": 22,
   "metadata": {},
   "outputs": [
    {
     "name": "stdout",
     "output_type": "stream",
     "text": [
      "Origin: (0.0, 0.0, 0.0)\n",
      "Spacing: (0.653595, 0.653595, 4.0)\n",
      "Direction cosine matrix: (1.0, 0.0, 0.0, 0.0, 1.0, 0.0, 0.0, 0.0, 1.0)\n"
     ]
    }
   ],
   "source": [
    "print('Origin:',ct.GetOrigin())\n",
    "print('Spacing:',ct.GetSpacing())\n",
    "print('Direction cosine matrix:',ct.GetDirection())"
   ]
  },
  {
   "cell_type": "markdown",
   "metadata": {},
   "source": [
    "## Basic Image Attributes (Meta-Data)\n",
    "\n",
    "You can change the image origin, spacing and direction. Making such changes to an image already containing data should be done cautiously. "
   ]
  },
  {
   "cell_type": "code",
   "execution_count": 23,
   "metadata": {},
   "outputs": [
    {
     "name": "stdout",
     "output_type": "stream",
     "text": [
      "Before modification:\n",
      "origin: (0.0, 0.0, 0.0)\n",
      "size: (256, 128, 64)\n",
      "spacing: (1.0, 1.0, 1.0)\n",
      "direction: (1.0, 0.0, 0.0, 0.0, 1.0, 0.0, 0.0, 0.0, 1.0)\n",
      "pixel type: 16-bit signed integer\n",
      "number of pixel components: 1\n",
      "\n",
      "After modification:\n",
      "origin: (78.0, 76.0, 77.0)\n",
      "spacing: (0.5, 0.5, 3.0)\n"
     ]
    }
   ],
   "source": [
    "selected_image = sitkimage_3D\n",
    "print('Before modification:')\n",
    "print('origin: ' + str(selected_image.GetOrigin()))\n",
    "print('size: ' + str(selected_image.GetSize()))\n",
    "print('spacing: ' + str(selected_image.GetSpacing()))\n",
    "print('direction: ' + str(selected_image.GetDirection()))\n",
    "print('pixel type: ' + str(selected_image.GetPixelIDTypeAsString()))\n",
    "print('number of pixel components: ' + str(selected_image.GetNumberOfComponentsPerPixel()))\n",
    "\n",
    "selected_image.SetOrigin((78.0, 76.0, 77.0))\n",
    "selected_image.SetSpacing([0.5,0.5,3.0])\n",
    "\n",
    "print('\\nAfter modification:')\n",
    "print('origin: ' + str(selected_image.GetOrigin()))\n",
    "print('spacing: ' + str(selected_image.GetSpacing()))"
   ]
  },
  {
   "cell_type": "code",
   "execution_count": 24,
   "metadata": {},
   "outputs": [
    {
     "name": "stdout",
     "output_type": "stream",
     "text": [
      "Before modification:\n",
      "origin: (0.0, 0.0)\n",
      "size: (64, 48)\n",
      "spacing: (1.0, 1.0)\n",
      "direction: (1.0, 0.0, 0.0, 1.0)\n",
      "pixel type: 32-bit float\n",
      "number of pixel components: 1\n",
      "\n",
      "After modification:\n",
      "origin: (78.0, 76.0)\n",
      "spacing: (0.5, 0.5)\n"
     ]
    }
   ],
   "source": [
    "# what if 2D?\n",
    "selected_image = sitkimage_2D\n",
    "print('Before modification:')\n",
    "print('origin: ' + str(selected_image.GetOrigin()))\n",
    "print('size: ' + str(selected_image.GetSize()))\n",
    "print('spacing: ' + str(selected_image.GetSpacing()))\n",
    "print('direction: ' + str(selected_image.GetDirection()))\n",
    "print('pixel type: ' + str(selected_image.GetPixelIDTypeAsString()))\n",
    "print('number of pixel components: ' + str(selected_image.GetNumberOfComponentsPerPixel()))\n",
    "\n",
    "selected_image.SetOrigin((78.0, 76.0, 77.0))\n",
    "selected_image.SetSpacing([0.5,0.5,3.0])\n",
    "\n",
    "print('\\nAfter modification:')\n",
    "print('origin: ' + str(selected_image.GetOrigin()))\n",
    "print('spacing: ' + str(selected_image.GetSpacing()))"
   ]
  }
 ],
 "metadata": {
  "kernelspec": {
   "display_name": "Python 3 (ipykernel)",
   "language": "python",
   "name": "python3"
  },
  "language_info": {
   "codemirror_mode": {
    "name": "ipython",
    "version": 3
   },
   "file_extension": ".py",
   "mimetype": "text/x-python",
   "name": "python",
   "nbconvert_exporter": "python",
   "pygments_lexer": "ipython3",
   "version": "3.9.13"
  }
 },
 "nbformat": 4,
 "nbformat_minor": 4
}
